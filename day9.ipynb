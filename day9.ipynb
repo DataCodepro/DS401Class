{
 "cells": [
  {
   "cell_type": "code",
   "execution_count": 3,
   "id": "10c7dce1",
   "metadata": {},
   "outputs": [
    {
     "name": "stdout",
     "output_type": "stream",
     "text": [
      "Enter First Number:85\n",
      "Enter Second Number:4\n",
      "Pick an operation [ +, -, *, /]:+\n",
      "85 + 4 = 89\n"
     ]
    }
   ],
   "source": [
    "try:\n",
    "    num1 = int(input('Enter First Number:'))\n",
    "    num2 = int(input('Enter Second Number:'))\n",
    "    operation = input('Pick an operation [ +, -, *, /]:')\n",
    "    if operation == '+':\n",
    "        print(f'{num1} + {num2} = {num1 + num2}')\n",
    "    elif operation == '-':\n",
    "        print(f'{num1} - {num2} = {num1 - num2}')\n",
    "    elif operation == '*':\n",
    "        print(f'{num1} * {num2} = {num1 * num2}')\n",
    "    elif operation == '/':\n",
    "        print(f'{num1} / {num2} = {num1 / num2}')\n",
    "except:\n",
    "    print('You have encountered one or more errors')"
   ]
  },
  {
   "cell_type": "code",
   "execution_count": 8,
   "id": "bb30420b",
   "metadata": {},
   "outputs": [
    {
     "name": "stdout",
     "output_type": "stream",
     "text": [
      "Enter First Number:45\n",
      "Enter Second Number:4\n",
      "Pick an operation [ +, -, *, /]:+\n",
      "45 + 4 = 49\n",
      "45 %7 = 3\n",
      "End of program\n"
     ]
    }
   ],
   "source": [
    "try:\n",
    "    num1 = int(input('Enter First Number:'))\n",
    "    num2 = int(input('Enter Second Number:'))\n",
    "    operation = input('Pick an operation [ +, -, *, /]:')\n",
    "    if operation == '+':\n",
    "        print(f'{num1} + {num2} = {num1 + num2}')\n",
    "    elif operation == '-':\n",
    "        print(f'{num1} - {num2} = {num1 - num2}')\n",
    "    elif operation == '*':\n",
    "        print(f'{num1} * {num2} = {num1 * num2}')\n",
    "    elif operation == '/':\n",
    "        print(f'{num1} / {num2} = {num1 / num2}')\n",
    "except ValueError:\n",
    "    print('Only integer value expected')\n",
    "except ZeroDivisionError:\n",
    "    print('You cannot divide a number by zero')\n",
    "except:\n",
    "    print('You have encountered one or more errors')\n",
    "else:\n",
    "    print(f'{num1} %{7} = {num1%7 }')\n",
    "finally:\n",
    "    print('End of program')"
   ]
  },
  {
   "cell_type": "markdown",
   "id": "06f69689",
   "metadata": {},
   "source": [
    "# AS A DEVELOPER YOU ARE CONTACTED BY MRAD REAL ESTATE TO BUILD A LITTLE CALCULATOR TO ESTIMATE THE COST OF BUILDING A HOUSE FROM SCRATCH \n",
    "# NOTE: YOU MUST USE ERROR HANDLING TECHNIQUES"
   ]
  },
  {
   "cell_type": "code",
   "execution_count": 21,
   "id": "abd3e685",
   "metadata": {},
   "outputs": [
    {
     "name": "stdout",
     "output_type": "stream",
     "text": [
      "Enter number of masons:20\n",
      "Enter number of days:180\n",
      "Enter number of  masons days:65\n",
      "Enter number of carpentals days:20\n",
      "Enter number of carpentals:15\n",
      "Enter number of cement:500\n",
      "Enter number of blocks:10000\n",
      "Enter number of iron:1000\n",
      "Enter trip of sand:10\n",
      "Enter trip of stone:20\n",
      "Enter tank of water:8\n",
      "NUMBERS OF DAYS: 180\n",
      "MASON PRICE FOR 20: 2600000\n",
      "CAPENTER PRICE FOR 15: 750000\n",
      "CEMENT PRICE : 2400000.0\n",
      "BLOCKS PRICE : 2500000.0\n",
      "STONE PRICE  600000.0\n",
      "SAND PRICE : 200000.0\n",
      "IRON PRICE : 1200000.0\n",
      "WATER PRICE : 80000.0\n",
      "__________________________________________________\n",
      "THE TOTAL BUDGET FOR 180 DAYS::10330000.0\n",
      "\n"
     ]
    }
   ],
   "source": [
    "try:\n",
    "    mason = int(input('Enter number of masons:'))\n",
    "    days = int(input('Enter number of days:'))\n",
    "    mdays = int(input('Enter number of  masons days:'))\n",
    "    cdays = int(input('Enter number of carpentals days:'))\n",
    "    capenter = int(input('Enter number of carpentals:'))\n",
    "    cement = float(input('Enter number of cement:'))\n",
    "    blocks = float(input('Enter number of blocks:'))\n",
    "    iron = float(input('Enter number of iron:'))\n",
    "    sand = float(input('Enter trip of sand:'))\n",
    "    stone = float(input('Enter trip of stone:'))\n",
    "    water = float(input('Enter tank of water:'))\n",
    "    \n",
    "    permason = 2000\n",
    "    percapenter = 2500\n",
    "    perblocks = 250\n",
    "    percement = 4800\n",
    "    periron = 1200\n",
    "    persand = 20000\n",
    "    perstones = 30000\n",
    "    perwater = 10000\n",
    "except ValueError:\n",
    "    print('Only integer value expected')\n",
    "except ZeroDivisionError:\n",
    "    print('You cannot divide a number by zero')\n",
    "except:\n",
    "    print('You have encountered one or more errors')\n",
    "else:\n",
    "    print(f'''NUMBERS OF DAYS: {days}\n",
    "MASON PRICE FOR {mason}: {mason * permason * mdays}\n",
    "CAPENTER PRICE FOR {capenter}: {capenter * percapenter * cdays}\n",
    "CEMENT PRICE : {cement* percement}\n",
    "BLOCKS PRICE : {perblocks * blocks}\n",
    "STONE PRICE  {perstones * stone}\n",
    "SAND PRICE : {persand * sand}\n",
    "IRON PRICE : {periron * iron}\n",
    "WATER PRICE : {perwater * water}\n",
    "__________________________________________________\n",
    "THE TOTAL BUDGET FOR {days} DAYS::{(mason * permason * mdays) + (capenter * percapenter * cdays) +\n",
    "(perblocks* blocks)+(perstones* stone) + (persand* sand)+ (periron* iron) + \n",
    "(perwater * water) +(percement * cement)}\n",
    "''')\n"
   ]
  },
  {
   "cell_type": "code",
   "execution_count": null,
   "id": "4abeebc6",
   "metadata": {},
   "outputs": [],
   "source": []
  }
 ],
 "metadata": {
  "kernelspec": {
   "display_name": "Python 3 (ipykernel)",
   "language": "python",
   "name": "python3"
  },
  "language_info": {
   "codemirror_mode": {
    "name": "ipython",
    "version": 3
   },
   "file_extension": ".py",
   "mimetype": "text/x-python",
   "name": "python",
   "nbconvert_exporter": "python",
   "pygments_lexer": "ipython3",
   "version": "3.9.12"
  }
 },
 "nbformat": 4,
 "nbformat_minor": 5
}
