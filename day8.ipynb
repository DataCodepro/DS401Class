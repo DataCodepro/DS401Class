{
 "cells": [
  {
   "cell_type": "markdown",
   "id": "97cd786c",
   "metadata": {},
   "source": [
    "# CLASS AND OBJECT"
   ]
  },
  {
   "cell_type": "code",
   "execution_count": 2,
   "id": "98af0856",
   "metadata": {},
   "outputs": [],
   "source": [
    "class pet:\n",
    "    attr1 = 'Bird'\n",
    "    attr2 = 'Mammal'\n",
    "ob = pet()"
   ]
  },
  {
   "cell_type": "code",
   "execution_count": 3,
   "id": "0367c5d0",
   "metadata": {},
   "outputs": [
    {
     "data": {
      "text/plain": [
       "'Bird'"
      ]
     },
     "execution_count": 3,
     "metadata": {},
     "output_type": "execute_result"
    }
   ],
   "source": [
    "ob.attr1"
   ]
  },
  {
   "cell_type": "code",
   "execution_count": 4,
   "id": "2946fa96",
   "metadata": {},
   "outputs": [
    {
     "data": {
      "text/plain": [
       "'Mammal'"
      ]
     },
     "execution_count": 4,
     "metadata": {},
     "output_type": "execute_result"
    }
   ],
   "source": [
    "ob.attr2"
   ]
  },
  {
   "cell_type": "code",
   "execution_count": 7,
   "id": "d47de9a8",
   "metadata": {},
   "outputs": [],
   "source": [
    "class pet2:\n",
    "    attr1 = 'Bird'\n",
    "    attr2 = 'Mammal'\n",
    "    \n",
    "    def details(self):\n",
    "        print(f'''The pet name is {self.attr1}\n",
    "The pet family is {self.attr2}\n",
    "''')\n",
    "ob2 = pet2()"
   ]
  },
  {
   "cell_type": "code",
   "execution_count": 8,
   "id": "0d4e8442",
   "metadata": {},
   "outputs": [
    {
     "name": "stdout",
     "output_type": "stream",
     "text": [
      "The pet name is Bird\n",
      "The pet family is Mammal\n",
      "\n"
     ]
    }
   ],
   "source": [
    "ob2.details()"
   ]
  },
  {
   "cell_type": "code",
   "execution_count": 9,
   "id": "ec1c2f77",
   "metadata": {},
   "outputs": [],
   "source": [
    "# CLASS EXERCISE\n",
    "# balance\n",
    "# deposit, withdraw, transfer, budles, checkbalance"
   ]
  },
  {
   "cell_type": "code",
   "execution_count": 19,
   "id": "b52a7779",
   "metadata": {},
   "outputs": [
    {
     "name": "stdout",
     "output_type": "stream",
     "text": [
      "Enter your password:2258\n",
      "Enter yes to perform operationyes\n",
      "Choose Transaction option [deposit,withdrawal,transfer,bundles, checkbalance,logout]:deposit\n",
      "Enter deposit amount:780000\n",
      "Transaction successful\n",
      "Enter yes to perform operationyes\n",
      "Choose Transaction option [deposit,withdrawal,transfer,bundles, checkbalance,logout]:checkbalance\n",
      "Your Avaliable Balance is 780000.0\n",
      "Enter yes to perform operationlogout\n",
      "Invalid Password\n"
     ]
    }
   ],
   "source": [
    "class bankapp:\n",
    "    def __init__(self):\n",
    "        self.balance = 0\n",
    "        \n",
    "    def deposit(self):\n",
    "        amount = float(input('Enter deposit amount:'))\n",
    "        self.balance += amount\n",
    "        print('Transaction successful')\n",
    "        \n",
    "    def withdraw(self):\n",
    "        amount = float(input('Enter withdrawal amount:'))\n",
    "        if amount == 0 or amount > self.balance:\n",
    "            print('Zero or insufficent funds')\n",
    "        else:\n",
    "            self.balance -= amount\n",
    "            print('Transaction successful')\n",
    "    def transfer(self):\n",
    "        amount = float(input('Enter transfer amount:'))\n",
    "        if amount == 0 or amount > self.balance:\n",
    "            print('Zero or insufficent funds')\n",
    "        else:\n",
    "            accountnumber = input('Enter destination account number:')\n",
    "            accountbank = input('Enter destination Bank Name:')\n",
    "            self.balance -= amount\n",
    "            print('Transaction successful')\n",
    "    \n",
    "    def bundles(self):\n",
    "        amount = float(input('Enter bundles amount:'))\n",
    "        if amount == 0 or amount > self.balance:\n",
    "            print('Zero or insufficent funds')\n",
    "        else:\n",
    "            phonenumber = input('Enter destination phone number:')\n",
    "            provider = input('Enter network provider:')\n",
    "            self.balance -= amount\n",
    "            print('Transaction successful')\n",
    "    def checkbalance(self):\n",
    "        print(f'Your Avaliable Balance is {self.balance}')\n",
    "program = bankapp()\n",
    "password = [2258,5689,7897]\n",
    "passid = int(input('Enter your password:'))\n",
    "for x in password:\n",
    "    if passid  == x:\n",
    "        counter = 0\n",
    "        operation = input('Enter yes to perform operation')\n",
    "        while operation == 'yes':\n",
    "            transaction = input('Choose Transaction option [deposit,withdrawal,transfer,bundles, checkbalance,logout]:')\n",
    "            if transaction == 'deposit':\n",
    "                program.deposit()\n",
    "            elif transaction == 'withdrawal':\n",
    "                program.withdraw()\n",
    "            elif transaction == 'transfer':\n",
    "                program.transfer()\n",
    "            elif transaction == 'bundles':\n",
    "                program.bundles()\n",
    "            elif transaction == 'checkbalance':\n",
    "                program.checkbalance()\n",
    "            elif transaction == 'logout':\n",
    "                print('GOOD BYE')\n",
    "                break\n",
    "            operation = input('Enter yes to perform operation')\n",
    "            counter += 1\n",
    "else:\n",
    "    print('Invalid Password')"
   ]
  },
  {
   "cell_type": "code",
   "execution_count": 21,
   "id": "1625347c",
   "metadata": {},
   "outputs": [],
   "source": [
    "class simulation:\n",
    "    def __init__(self,brand,model,color,year,speed):\n",
    "        self.brand = brand\n",
    "        self.model = model\n",
    "        self.color =color\n",
    "        self.year = year\n",
    "        self.speed = speed\n",
    "        \n",
    "    def start(self):\n",
    "        print(f'{self.brand} {self.model} has started')\n",
    "    \n",
    "    def accelerate(self):\n",
    "        option = input('Enter Acceleration option [yes, no]:')\n",
    "        if option =='yes':\n",
    "            print('Nitro Engaged')\n",
    "        elif option == 'no':\n",
    "            print('Nitro Disenagaged')\n",
    "    def stop(self):\n",
    "        print(f'{self.brand} {self.model} has stopped')\n",
    "car1 = simulation('Audi','GM5','Black',2020,350)"
   ]
  },
  {
   "cell_type": "code",
   "execution_count": 22,
   "id": "7b47dace",
   "metadata": {},
   "outputs": [
    {
     "name": "stdout",
     "output_type": "stream",
     "text": [
      "Audi GM5 has started\n"
     ]
    }
   ],
   "source": [
    "car1.start()"
   ]
  },
  {
   "cell_type": "code",
   "execution_count": 23,
   "id": "23ee75cd",
   "metadata": {},
   "outputs": [
    {
     "name": "stdout",
     "output_type": "stream",
     "text": [
      "Enter Acceleration option [yes, no]:yes\n",
      "Nitro Engaged\n"
     ]
    }
   ],
   "source": [
    "car1.accelerate()"
   ]
  },
  {
   "cell_type": "code",
   "execution_count": 24,
   "id": "db2537e7",
   "metadata": {},
   "outputs": [],
   "source": [
    "class simulation2(simulation):\n",
    "    def opentrunk(self):\n",
    "        option = input('Enter open trunk option [yes, no]:')\n",
    "        if option =='yes':\n",
    "            print('Trunk opend')\n",
    "        elif option == 'no':\n",
    "            print('Trunk closed')\n",
    "car2 = simulation2('Lambogini','Mercilado','Yellow',2023,600)"
   ]
  },
  {
   "cell_type": "code",
   "execution_count": 25,
   "id": "185cbeac",
   "metadata": {},
   "outputs": [
    {
     "name": "stdout",
     "output_type": "stream",
     "text": [
      "Lambogini Mercilado has started\n"
     ]
    }
   ],
   "source": [
    "car2.start()"
   ]
  },
  {
   "cell_type": "code",
   "execution_count": 26,
   "id": "488508f2",
   "metadata": {},
   "outputs": [
    {
     "ename": "AttributeError",
     "evalue": "'simulation' object has no attribute 'opentrunk'",
     "output_type": "error",
     "traceback": [
      "\u001b[1;31m---------------------------------------------------------------------------\u001b[0m",
      "\u001b[1;31mAttributeError\u001b[0m                            Traceback (most recent call last)",
      "Input \u001b[1;32mIn [26]\u001b[0m, in \u001b[0;36m<cell line: 1>\u001b[1;34m()\u001b[0m\n\u001b[1;32m----> 1\u001b[0m \u001b[43mcar1\u001b[49m\u001b[38;5;241;43m.\u001b[39;49m\u001b[43mopentrunk\u001b[49m()\n",
      "\u001b[1;31mAttributeError\u001b[0m: 'simulation' object has no attribute 'opentrunk'"
     ]
    }
   ],
   "source": [
    "car1.opentrunk()"
   ]
  },
  {
   "cell_type": "code",
   "execution_count": null,
   "id": "4e708b13",
   "metadata": {},
   "outputs": [],
   "source": []
  }
 ],
 "metadata": {
  "kernelspec": {
   "display_name": "Python 3 (ipykernel)",
   "language": "python",
   "name": "python3"
  },
  "language_info": {
   "codemirror_mode": {
    "name": "ipython",
    "version": 3
   },
   "file_extension": ".py",
   "mimetype": "text/x-python",
   "name": "python",
   "nbconvert_exporter": "python",
   "pygments_lexer": "ipython3",
   "version": "3.9.12"
  }
 },
 "nbformat": 4,
 "nbformat_minor": 5
}
