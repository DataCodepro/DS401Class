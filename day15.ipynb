{
 "cells": [
  {
   "cell_type": "code",
   "execution_count": null,
   "id": "89078665",
   "metadata": {},
   "outputs": [],
   "source": [
    "\n",
    "# DATA TO USE: POPULATION.csv\n",
    "# Question1: What is the average happiness score for each region?\n",
    "# Question2: How many countries are there in each region?\n",
    "# Question3: What are the top 5 countries with the highest happiness scores?\n",
    "# Question4: What is the average economy (GDP per Capita) for each region?\n",
    "# Question5: What is the maximum trust (government corruption) among countries in each region?\n",
    "# Question6: What are the countries with a happiness score greater than 7?\n",
    "# Question7: How many countries have a happiness score between 6 and 7?\n",
    "# Question8: What is the minimum health (life expectancy) among countries in each region?\n",
    "# Question9: What is the average generosity for countries with a happiness rank less than 10?\n",
    "# Question10: What is the sum of standard errors for countries in each region?\n"
   ]
  },
  {
   "cell_type": "code",
   "execution_count": 5,
   "id": "e0cd0b3c",
   "metadata": {},
   "outputs": [],
   "source": [
    "import mysql.connector\n",
    "mydb = mysql.connector.connect(\n",
    "    host = 'localhost',\n",
    "    user = 'root',\n",
    "    password = 'seyilaw1',\n",
    "    database = 'sqlproject'\n",
    ")\n",
    "mycursor = mydb.cursor()"
   ]
  },
  {
   "cell_type": "code",
   "execution_count": 6,
   "id": "bea7c041",
   "metadata": {},
   "outputs": [
    {
     "name": "stdout",
     "output_type": "stream",
     "text": [
      "('Country', b'text', 'YES', '', None, '')\n",
      "('Region', b'text', 'YES', '', None, '')\n",
      "('HappinessRank', b'int', 'YES', '', None, '')\n",
      "('HappinessScore', b'double', 'YES', '', None, '')\n",
      "('StandardError', b'double', 'YES', '', None, '')\n",
      "('Economy_GDP_per_Capita', b'double', 'YES', '', None, '')\n",
      "('Family', b'double', 'YES', '', None, '')\n",
      "('Health_Life_Expectancy', b'double', 'YES', '', None, '')\n",
      "('Freedom', b'double', 'YES', '', None, '')\n",
      "('Trust_Government_Corruption', b'double', 'YES', '', None, '')\n",
      "('Generosity', b'double', 'YES', '', None, '')\n",
      "('Dystopia Residual', b'double', 'YES', '', None, '')\n"
     ]
    }
   ],
   "source": [
    "mycursor.execute('show columns from population')\n",
    "for x in mycursor:\n",
    "    print(x)"
   ]
  },
  {
   "cell_type": "code",
   "execution_count": 8,
   "id": "eafe8024",
   "metadata": {},
   "outputs": [
    {
     "name": "stdout",
     "output_type": "stream",
     "text": [
      "('Western Europe', 6.689619047619048)\n",
      "('North America', 7.273)\n",
      "('Australia and New Zealand', 7.285)\n",
      "('Middle East and Northern Africa', 5.406899999999999)\n",
      "('Latin America and Caribbean', 6.1446818181818195)\n",
      "('Southeastern Asia', 5.317444444444445)\n",
      "('Central and Eastern Europe', 5.332931034482758)\n",
      "('Eastern Asia', 5.626166666666666)\n",
      "('Sub-Saharan Africa', 4.202800000000001)\n",
      "('Southern Asia', 4.580857142857143)\n"
     ]
    }
   ],
   "source": [
    "mycursor.execute('select Region,avg(HappinessScore) from population group by Region')\n",
    "for x in mycursor:\n",
    "    print(x)"
   ]
  },
  {
   "cell_type": "code",
   "execution_count": 9,
   "id": "81edd8d2",
   "metadata": {},
   "outputs": [
    {
     "name": "stdout",
     "output_type": "stream",
     "text": [
      "('Western Europe', 21)\n",
      "('North America', 2)\n",
      "('Australia and New Zealand', 2)\n",
      "('Middle East and Northern Africa', 20)\n",
      "('Latin America and Caribbean', 22)\n",
      "('Southeastern Asia', 9)\n",
      "('Central and Eastern Europe', 29)\n",
      "('Eastern Asia', 6)\n",
      "('Sub-Saharan Africa', 40)\n",
      "('Southern Asia', 7)\n"
     ]
    }
   ],
   "source": [
    "mycursor.execute('select Region,count(Country) from population group by Region')\n",
    "for x in mycursor:\n",
    "    print(x)"
   ]
  },
  {
   "cell_type": "code",
   "execution_count": 13,
   "id": "ed978b69",
   "metadata": {},
   "outputs": [
    {
     "name": "stdout",
     "output_type": "stream",
     "text": [
      "('Switzerland', 7.587)\n",
      "('Iceland', 7.561)\n",
      "('Denmark', 7.527)\n",
      "('Norway', 7.522)\n",
      "('Canada', 7.427)\n"
     ]
    }
   ],
   "source": [
    "mycursor.execute('select Country, HappinessScore from population order by HappinessScore desc limit 5')\n",
    "for x in mycursor:\n",
    "    print(x)"
   ]
  },
  {
   "cell_type": "code",
   "execution_count": 14,
   "id": "bb9d2e4f",
   "metadata": {},
   "outputs": [
    {
     "name": "stdout",
     "output_type": "stream",
     "text": [
      "('Western Europe', 1.2985957142857143)\n",
      "('North America', 1.3603999999999998)\n",
      "('Australia and New Zealand', 1.29188)\n",
      "('Middle East and Northern Africa', 1.0669734999999998)\n",
      "('Latin America and Caribbean', 0.8768154545454546)\n",
      "('Southeastern Asia', 0.7890544444444444)\n",
      "('Central and Eastern Europe', 0.942438275862069)\n",
      "('Eastern Asia', 1.15178)\n",
      "('Sub-Saharan Africa', 0.38047299999999995)\n",
      "('Southern Asia', 0.5604857142857143)\n"
     ]
    }
   ],
   "source": [
    "mycursor.execute('select Region,avg(Economy_GDP_per_Capita) from population group by Region')\n",
    "for x in mycursor:\n",
    "    print(x)"
   ]
  },
  {
   "cell_type": "code",
   "execution_count": 15,
   "id": "832d729d",
   "metadata": {},
   "outputs": [
    {
     "name": "stdout",
     "output_type": "stream",
     "text": [
      "('Western Europe', 0.48357)\n",
      "('North America', 0.32957)\n",
      "('Australia and New Zealand', 0.42922)\n",
      "('Middle East and Northern Africa', 0.52208)\n",
      "('Latin America and Caribbean', 0.24558)\n",
      "('Southeastern Asia', 0.4921)\n",
      "('Central and Eastern Europe', 0.38331)\n",
      "('Eastern Asia', 0.37124)\n",
      "('Sub-Saharan Africa', 0.55191)\n",
      "('Southern Asia', 0.15445)\n"
     ]
    }
   ],
   "source": [
    "mycursor.execute('select Region,max(Trust_Government_Corruption) from population group by Region')\n",
    "for x in mycursor:\n",
    "    print(x)"
   ]
  },
  {
   "cell_type": "code",
   "execution_count": 16,
   "id": "d229ab2a",
   "metadata": {},
   "outputs": [
    {
     "name": "stdout",
     "output_type": "stream",
     "text": [
      "('Switzerland', 7.587)\n",
      "('Iceland', 7.561)\n",
      "('Denmark', 7.527)\n",
      "('Norway', 7.522)\n",
      "('Canada', 7.427)\n",
      "('Finland', 7.406)\n",
      "('Netherlands', 7.378)\n",
      "('Sweden', 7.364)\n",
      "('New Zealand', 7.286)\n",
      "('Australia', 7.284)\n",
      "('Israel', 7.278)\n",
      "('Costa Rica', 7.226)\n",
      "('Austria', 7.2)\n",
      "('Mexico', 7.187)\n",
      "('United States', 7.119)\n"
     ]
    }
   ],
   "source": [
    "mycursor.execute('select Country,HappinessScore from population where HappinessScore > 7')\n",
    "for x in mycursor:\n",
    "    print(x)"
   ]
  },
  {
   "cell_type": "code",
   "execution_count": 17,
   "id": "9e410fa6",
   "metadata": {},
   "outputs": [
    {
     "name": "stdout",
     "output_type": "stream",
     "text": [
      "('Brazil', 6.983)\n",
      "('Luxembourg', 6.946)\n",
      "('Ireland', 6.94)\n",
      "('Belgium', 6.937)\n",
      "('United Arab Emirates', 6.901)\n",
      "('United Kingdom', 6.867)\n",
      "('Oman', 6.853)\n",
      "('Venezuela', 6.81)\n",
      "('Singapore', 6.798)\n",
      "('Panama', 6.786)\n",
      "('Germany', 6.75)\n",
      "('Chile', 6.67)\n",
      "('Qatar', 6.611)\n",
      "('France', 6.575)\n",
      "('Argentina', 6.574)\n",
      "('Czech Republic', 6.505)\n",
      "('Uruguay', 6.485)\n",
      "('Colombia', 6.477)\n",
      "('Thailand', 6.455)\n",
      "('Saudi Arabia', 6.411)\n",
      "('Spain', 6.329)\n",
      "('Malta', 6.302)\n",
      "('Taiwan', 6.298)\n",
      "('Kuwait', 6.295)\n",
      "('Suriname', 6.269)\n",
      "('Trinidad and Tobago', 6.168)\n",
      "('El Salvador', 6.13)\n",
      "('Guatemala', 6.123)\n",
      "('Uzbekistan', 6.003)\n"
     ]
    }
   ],
   "source": [
    "mycursor.execute('select Country,HappinessScore from population where HappinessScore  between 6 and 7')\n",
    "for x in mycursor:\n",
    "    print(x)"
   ]
  },
  {
   "cell_type": "code",
   "execution_count": 18,
   "id": "b8141281",
   "metadata": {},
   "outputs": [
    {
     "name": "stdout",
     "output_type": "stream",
     "text": [
      "('Western Europe', 0.87464)\n",
      "('North America', 0.86179)\n",
      "('Australia and New Zealand', 0.90837)\n",
      "('Middle East and Northern Africa', 0.40064)\n",
      "('Latin America and Caribbean', 0.38847)\n",
      "('Southeastern Asia', 0.48246)\n",
      "('Central and Eastern Europe', 0.53886)\n",
      "('Eastern Asia', 0.60268)\n",
      "('Sub-Saharan Africa', 0.0)\n",
      "('Southern Asia', 0.30335)\n"
     ]
    }
   ],
   "source": [
    "mycursor.execute('select Region,min(Health_Life_Expectancy) from population group by Region')\n",
    "for x in mycursor:\n",
    "    print(x)"
   ]
  },
  {
   "cell_type": "code",
   "execution_count": 20,
   "id": "f63e3718",
   "metadata": {},
   "outputs": [
    {
     "name": "stdout",
     "output_type": "stream",
     "text": [
      "(0.38075666666666674,)\n"
     ]
    }
   ],
   "source": [
    "mycursor.execute('select avg(Generosity) from population where HappinessRank < 10')\n",
    "for x in mycursor:\n",
    "    print(x)"
   ]
  },
  {
   "cell_type": "code",
   "execution_count": 21,
   "id": "c7b9dc32",
   "metadata": {},
   "outputs": [
    {
     "name": "stdout",
     "output_type": "stream",
     "text": [
      "('Western Europe', 0.7901299999999999)\n",
      "('North America', 0.07392)\n",
      "('Australia and New Zealand', 0.07454)\n",
      "('Middle East and Northern Africa', 0.9267400000000001)\n",
      "('Latin America and Caribbean', 1.34479)\n",
      "('Southeastern Asia', 0.38422)\n",
      "('Central and Eastern Europe', 1.31102)\n",
      "('Eastern Asia', 0.22335000000000002)\n",
      "('Sub-Saharan Africa', 2.21195)\n",
      "('Southern Asia', 0.22513000000000002)\n"
     ]
    }
   ],
   "source": [
    "mycursor.execute('select Region, sum(StandardError) from population group by Region')\n",
    "for x in mycursor:\n",
    "    print(x)\n"
   ]
  },
  {
   "cell_type": "code",
   "execution_count": null,
   "id": "12ec968f",
   "metadata": {},
   "outputs": [],
   "source": [
    "# DATA TO USE: ADULTDATA.csv\n",
    "# Question: How many unique education levels are present in the dataset?\n",
    "# Question: What is the average age of individuals with an income greater than 50K?\n",
    "# Question: How many individuals belong to each gender category?\n",
    "# Question: What is the maximum capital gain among individuals with a marital status of \"Married-civ-spouse\"?\n",
    "# Question: How many individuals have a relationship of \"Husband\" and an income less than or equal to 50K?\n",
    "# Question: What are the top 5 occupations with the highest average age?\n",
    "# Question: How many individuals belong to each race category and have a capital loss greater than 1000?\n",
    "# Question: What is the minimum education number among individuals with an income greater than 50K?\n",
    "# Question: What is the average hours per week worked by individuals in each education level category?\n",
    "# Question: What is the income distribution for individuals in each country?\n"
   ]
  }
 ],
 "metadata": {
  "kernelspec": {
   "display_name": "Python 3 (ipykernel)",
   "language": "python",
   "name": "python3"
  },
  "language_info": {
   "codemirror_mode": {
    "name": "ipython",
    "version": 3
   },
   "file_extension": ".py",
   "mimetype": "text/x-python",
   "name": "python",
   "nbconvert_exporter": "python",
   "pygments_lexer": "ipython3",
   "version": "3.9.12"
  }
 },
 "nbformat": 4,
 "nbformat_minor": 5
}
