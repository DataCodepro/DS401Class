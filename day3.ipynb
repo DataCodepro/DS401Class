{
 "cells": [
  {
   "cell_type": "markdown",
   "id": "0b6102f9",
   "metadata": {},
   "source": [
    "# MODULES"
   ]
  },
  {
   "cell_type": "code",
   "execution_count": 1,
   "id": "2b60646b",
   "metadata": {},
   "outputs": [
    {
     "name": "stdout",
     "output_type": "stream",
     "text": [
      "['__doc__', '__loader__', '__name__', '__package__', '__spec__', 'acos', 'acosh', 'asin', 'asinh', 'atan', 'atan2', 'atanh', 'ceil', 'comb', 'copysign', 'cos', 'cosh', 'degrees', 'dist', 'e', 'erf', 'erfc', 'exp', 'expm1', 'fabs', 'factorial', 'floor', 'fmod', 'frexp', 'fsum', 'gamma', 'gcd', 'hypot', 'inf', 'isclose', 'isfinite', 'isinf', 'isnan', 'isqrt', 'lcm', 'ldexp', 'lgamma', 'log', 'log10', 'log1p', 'log2', 'modf', 'nan', 'nextafter', 'perm', 'pi', 'pow', 'prod', 'radians', 'remainder', 'sin', 'sinh', 'sqrt', 'tan', 'tanh', 'tau', 'trunc', 'ulp']\n"
     ]
    }
   ],
   "source": [
    "import math\n",
    "print(dir(math))"
   ]
  },
  {
   "cell_type": "code",
   "execution_count": 2,
   "id": "70877c9f",
   "metadata": {},
   "outputs": [
    {
     "name": "stdout",
     "output_type": "stream",
     "text": [
      "16\n",
      "15\n",
      "3.9140771581561853\n",
      "2.729159164312445\n"
     ]
    }
   ],
   "source": [
    "num1 = 15.32\n",
    "print(math.ceil(num1))\n",
    "print(math.floor(num1))\n",
    "print(math.sqrt(num1))\n",
    "print(math.log(num1))"
   ]
  },
  {
   "cell_type": "code",
   "execution_count": 3,
   "id": "60399293",
   "metadata": {},
   "outputs": [
    {
     "name": "stdout",
     "output_type": "stream",
     "text": [
      "['Counter', 'Decimal', 'Fraction', 'NormalDist', 'StatisticsError', '__all__', '__builtins__', '__cached__', '__doc__', '__file__', '__loader__', '__name__', '__package__', '__spec__', '_coerce', '_convert', '_exact_ratio', '_fail_neg', '_find_lteq', '_find_rteq', '_isfinite', '_normal_dist_inv_cdf', '_ss', '_sum', 'bisect_left', 'bisect_right', 'erf', 'exp', 'fabs', 'fmean', 'fsum', 'geometric_mean', 'groupby', 'harmonic_mean', 'hypot', 'itemgetter', 'log', 'math', 'mean', 'median', 'median_grouped', 'median_high', 'median_low', 'mode', 'multimode', 'numbers', 'pstdev', 'pvariance', 'quantiles', 'random', 'sqrt', 'stdev', 'tau', 'variance']\n"
     ]
    }
   ],
   "source": [
    "import statistics as stat\n",
    "print(dir(stat))"
   ]
  },
  {
   "cell_type": "code",
   "execution_count": 4,
   "id": "931671e9",
   "metadata": {},
   "outputs": [
    {
     "name": "stdout",
     "output_type": "stream",
     "text": [
      "54.36363636363637\n",
      "58\n",
      "58\n"
     ]
    }
   ],
   "source": [
    "numbers = [45,56,23,58,97,96,58,96,58,5,6]\n",
    "print(stat.mean(numbers))\n",
    "print(stat.median(numbers))\n",
    "print(stat.mode(numbers))"
   ]
  },
  {
   "cell_type": "code",
   "execution_count": 5,
   "id": "08b4fc0d",
   "metadata": {},
   "outputs": [
    {
     "name": "stdout",
     "output_type": "stream",
     "text": [
      "['BPF', 'LOG4', 'NV_MAGICCONST', 'RECIP_BPF', 'Random', 'SG_MAGICCONST', 'SystemRandom', 'TWOPI', '_Sequence', '_Set', '__all__', '__builtins__', '__cached__', '__doc__', '__file__', '__loader__', '__name__', '__package__', '__spec__', '_accumulate', '_acos', '_bisect', '_ceil', '_cos', '_e', '_exp', '_floor', '_inst', '_log', '_os', '_pi', '_random', '_repeat', '_sha512', '_sin', '_sqrt', '_test', '_test_generator', '_urandom', '_warn', 'betavariate', 'choice', 'choices', 'expovariate', 'gammavariate', 'gauss', 'getrandbits', 'getstate', 'lognormvariate', 'normalvariate', 'paretovariate', 'randbytes', 'randint', 'random', 'randrange', 'sample', 'seed', 'setstate', 'shuffle', 'triangular', 'uniform', 'vonmisesvariate', 'weibullvariate']\n"
     ]
    }
   ],
   "source": [
    "import random \n",
    "print(dir(random))"
   ]
  },
  {
   "cell_type": "code",
   "execution_count": 7,
   "id": "c9ba39d2",
   "metadata": {},
   "outputs": [
    {
     "data": {
      "text/plain": [
       "18"
      ]
     },
     "execution_count": 7,
     "metadata": {},
     "output_type": "execute_result"
    }
   ],
   "source": [
    "random.randint(14,35)"
   ]
  },
  {
   "cell_type": "code",
   "execution_count": 11,
   "id": "cb7f8843",
   "metadata": {},
   "outputs": [
    {
     "name": "stdout",
     "output_type": "stream",
     "text": [
      "[96, 58, 45, 23, 5, 96, 56, 58, 6, 58, 97]\n"
     ]
    }
   ],
   "source": [
    "random.shuffle(numbers)\n",
    "print(numbers)"
   ]
  },
  {
   "cell_type": "markdown",
   "id": "bc706aa6",
   "metadata": {},
   "source": [
    "# CONDITIONAL SELECTION"
   ]
  },
  {
   "cell_type": "markdown",
   "id": "a09c09bb",
   "metadata": {},
   "source": [
    "### How can a home improvement store use a conditional statement to determine if a customer has spent a certain amount on a specific type of product, and offer them a rebate or other reward?"
   ]
  },
  {
   "cell_type": "code",
   "execution_count": 14,
   "id": "2351374e",
   "metadata": {},
   "outputs": [
    {
     "name": "stdout",
     "output_type": "stream",
     "text": [
      "Enter Customer amount:500000\n",
      "You are eligible for 10% discount\n"
     ]
    }
   ],
   "source": [
    "customer_amount = float(input('Enter Customer amount:'))\n",
    "if customer_amount >= 400000:\n",
    "    print('You are eligible for 10% discount')"
   ]
  },
  {
   "cell_type": "code",
   "execution_count": 16,
   "id": "45620434",
   "metadata": {},
   "outputs": [
    {
     "name": "stdout",
     "output_type": "stream",
     "text": [
      "Enter Customer amount:450000\n",
      "You are eligible for 10% discount\n"
     ]
    }
   ],
   "source": [
    "customer_amount = float(input('Enter Customer amount:'))\n",
    "if customer_amount >= 400000:\n",
    "    print('You are eligible for 10% discount')\n",
    "else:\n",
    "    print('Sorry keep transacting to enjoy our reward program')"
   ]
  },
  {
   "cell_type": "code",
   "execution_count": 17,
   "id": "119a12db",
   "metadata": {},
   "outputs": [
    {
     "name": "stdout",
     "output_type": "stream",
     "text": [
      "Enter Customer amount:120000\n",
      "You are eligible for Extra One hour Cleaning\n"
     ]
    }
   ],
   "source": [
    "customer_amount = float(input('Enter Customer amount:'))\n",
    "if customer_amount >= 100000 and customer_amount <= 250000:\n",
    "    print('You are eligible for Extra One hour Cleaning')\n",
    "else:\n",
    "    if customer_amount > 250000 and customer_amount <= 350000:\n",
    "        print('You are eligible for 3% discount')\n",
    "    else:\n",
    "        if customer_amount > 350000 and customer_amount <= 500000:\n",
    "            print('You are eligible for 5% discount')\n",
    "        else:\n",
    "            if customer_amount >500000:\n",
    "                print('You are eligible for 10% discount')\n",
    "            else:\n",
    "                print('Sorry keep transacting to enjoy our reward program')"
   ]
  },
  {
   "cell_type": "code",
   "execution_count": 18,
   "id": "501da635",
   "metadata": {},
   "outputs": [
    {
     "name": "stdout",
     "output_type": "stream",
     "text": [
      "Enter Customer amount:450000\n",
      "You are eligible for 5% discount\n"
     ]
    }
   ],
   "source": [
    "customer_amount = float(input('Enter Customer amount:'))\n",
    "if customer_amount >= 100000 and customer_amount <= 250000:\n",
    "    print('You are eligible for Extra One hour Cleaning')\n",
    "elif customer_amount > 250000 and customer_amount <= 350000:\n",
    "    print('You are eligible for 3% discount')\n",
    "elif customer_amount > 350000 and customer_amount <= 500000:\n",
    "    print('You are eligible for 5% discount')\n",
    "elif customer_amount >500000:\n",
    "    print('You are eligible for 10% discount')\n",
    "else:\n",
    "    print('Sorry keep transacting to enjoy our reward program')"
   ]
  },
  {
   "cell_type": "markdown",
   "id": "e9fafb34",
   "metadata": {},
   "source": [
    "# EXERCISE\n",
    "## JTECH LIMITED HAS HIRED YOU TO WRITE A MINI DELIVERY SYSTEM TO CALCULATE THE DELIVERY AND ITEM PRICE BASED ON THE REGION\n",
    "## SOUTHWEST DEVILERY FEE IS 50 PER KEG FOR NON-FRAGILE ITEM, 100 PER KG FOR FRAGILE ITEM\n",
    "## SOUTHEAST DEVILERY FEE IS 50 PER KEG FOR NON-FRAGILE ITEM, 120 PER KG FOR FRAGILE ITEM\n",
    "## SOUTHSOUTH DEVILERY FEE IS 75 PER KEG FOR NON-FRAGILE ITEM, 150 PER KG FOR FRAGILE ITEM\n",
    "## NORTHWEST DEVILERY FEE IS 100 PER KEG FOR NON-FRAGILE ITEM, 200 PER KG FOR FRAGILE ITEM\n",
    "## NORTHEAST DEVILERY FEE IS 125 PER KEG FOR NON-FRAGILE ITEM, 225 PER KG FOR FRAGILE ITEM\n",
    "## NORTHCENTRAL DEVILERY FEE IS 110 PER KEG FOR NON-FRAGILE ITEM, 210 PER KG FOR FRAGILE ITEM"
   ]
  },
  {
   "cell_type": "code",
   "execution_count": 19,
   "id": "e87b3003",
   "metadata": {},
   "outputs": [
    {
     "name": "stdout",
     "output_type": "stream",
     "text": [
      "Enter your Region:southwest\n",
      "Enter Item Condition:fragile\n",
      "Enter Item Name:Tecno Spark 9\n",
      "Enter Item price:90000\n",
      "Enter item quantity:5\n",
      "enter item KG:2\n",
      "ITEM NAME: Tecno Spark 9\n",
      "ITEM QUANTITY: 5.0\n",
      "ITEM PRICE: 90000.0\n",
      "ITEM WEIGHT: 2.0\n",
      "ITEM TOTAL PRICE: 450000.0\n",
      "ITEM DELIVERY PRICE: 200.0\n",
      "____________________________________________________\n",
      "TOTAL: 450200.0\n",
      "\n"
     ]
    }
   ],
   "source": [
    "region = input('Enter your Region:')\n",
    "item_condition = input('Enter Item Condition:')\n",
    "item_name = input('Enter Item Name:')\n",
    "item_price = float(input('Enter Item price:'))\n",
    "quantity = float(input('Enter item quantity:'))\n",
    "itemkg = float(input('enter item KG:'))\n",
    "\n",
    "if region == 'southwest' and item_condition == 'fragile':\n",
    "    print(f'''ITEM NAME: {item_name}\n",
    "ITEM QUANTITY: {quantity}\n",
    "ITEM PRICE: {item_price}\n",
    "ITEM WEIGHT: {itemkg}\n",
    "ITEM TOTAL PRICE: {item_price * quantity}\n",
    "ITEM DELIVERY PRICE: { 100 * itemkg}\n",
    "____________________________________________________\n",
    "TOTAL: {(item_price * quantity) + (100 * itemkg)}\n",
    "''')\n",
    "elif region == 'southwest' and item_condition == 'non-fragile':\n",
    "    print(f'''ITEM NAME: {item_name}\n",
    "ITEM QUANTITY: {quantity}\n",
    "ITEM PRICE: {item_price}\n",
    "ITEM WEIGHT: {itemkg}\n",
    "ITEM TOTAL PRICE: {item_price * quantity}\n",
    "ITEM DELIVERY PRICE: { 50 * itemkg}\n",
    "____________________________________________________\n",
    "TOTAL: {(item_price * quantity) + (100 * itemkg)}\n",
    "''')"
   ]
  },
  {
   "cell_type": "code",
   "execution_count": null,
   "id": "70030b7d",
   "metadata": {},
   "outputs": [],
   "source": []
  }
 ],
 "metadata": {
  "kernelspec": {
   "display_name": "Python 3 (ipykernel)",
   "language": "python",
   "name": "python3"
  },
  "language_info": {
   "codemirror_mode": {
    "name": "ipython",
    "version": 3
   },
   "file_extension": ".py",
   "mimetype": "text/x-python",
   "name": "python",
   "nbconvert_exporter": "python",
   "pygments_lexer": "ipython3",
   "version": "3.9.12"
  }
 },
 "nbformat": 4,
 "nbformat_minor": 5
}
