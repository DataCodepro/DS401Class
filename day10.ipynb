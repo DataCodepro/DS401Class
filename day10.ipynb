{
 "cells": [
  {
   "cell_type": "code",
   "execution_count": 1,
   "id": "832ed56e",
   "metadata": {},
   "outputs": [
    {
     "name": "stdout",
     "output_type": "stream",
     "text": [
      "['MAXYEAR', 'MINYEAR', '__all__', '__builtins__', '__cached__', '__doc__', '__file__', '__loader__', '__name__', '__package__', '__spec__', 'date', 'datetime', 'datetime_CAPI', 'sys', 'time', 'timedelta', 'timezone', 'tzinfo']\n"
     ]
    }
   ],
   "source": [
    "import datetime\n",
    "print(dir(datetime))"
   ]
  },
  {
   "cell_type": "code",
   "execution_count": 2,
   "id": "de495d79",
   "metadata": {},
   "outputs": [
    {
     "data": {
      "text/plain": [
       "datetime.date(2022, 2, 25)"
      ]
     },
     "execution_count": 2,
     "metadata": {},
     "output_type": "execute_result"
    }
   ],
   "source": [
    "date1 = datetime.date(2022,2,25)\n",
    "date1"
   ]
  },
  {
   "cell_type": "code",
   "execution_count": 3,
   "id": "2829afcd",
   "metadata": {},
   "outputs": [
    {
     "name": "stdout",
     "output_type": "stream",
     "text": [
      "<class 'datetime.date'>\n"
     ]
    }
   ],
   "source": [
    "print(type(date1))"
   ]
  },
  {
   "cell_type": "code",
   "execution_count": 4,
   "id": "d8f3b9fa",
   "metadata": {},
   "outputs": [
    {
     "name": "stdout",
     "output_type": "stream",
     "text": [
      "2022\n",
      "2\n",
      "25\n",
      "4\n",
      "5\n"
     ]
    }
   ],
   "source": [
    "print(date1.year)\n",
    "print(date1.month)\n",
    "print(date1.day)\n",
    "print(date1.weekday())\n",
    "print(date1.isoweekday())"
   ]
  },
  {
   "cell_type": "code",
   "execution_count": 5,
   "id": "a2ce8cd8",
   "metadata": {},
   "outputs": [
    {
     "data": {
      "text/plain": [
       "datetime.date(2023, 6, 20)"
      ]
     },
     "execution_count": 5,
     "metadata": {},
     "output_type": "execute_result"
    }
   ],
   "source": [
    "currentdate = datetime.date.today()\n",
    "currentdate"
   ]
  },
  {
   "cell_type": "code",
   "execution_count": 15,
   "id": "01613a43",
   "metadata": {},
   "outputs": [
    {
     "data": {
      "text/plain": [
       "'20th of June, 2023'"
      ]
     },
     "execution_count": 15,
     "metadata": {},
     "output_type": "execute_result"
    }
   ],
   "source": [
    "# strftime: it is used for the modification of date and time\n",
    "currentdate.strftime('%dth of %B, %Y')"
   ]
  },
  {
   "cell_type": "code",
   "execution_count": 16,
   "id": "46a43d1b",
   "metadata": {},
   "outputs": [
    {
     "data": {
      "text/plain": [
       "datetime.time(16, 42, 34, 120880)"
      ]
     },
     "execution_count": 16,
     "metadata": {},
     "output_type": "execute_result"
    }
   ],
   "source": [
    "currenttime = datetime.datetime.now().time()\n",
    "currenttime"
   ]
  },
  {
   "cell_type": "code",
   "execution_count": 24,
   "id": "1b16ae30",
   "metadata": {},
   "outputs": [
    {
     "data": {
      "text/plain": [
       "'04::42::34::PM'"
      ]
     },
     "execution_count": 24,
     "metadata": {},
     "output_type": "execute_result"
    }
   ],
   "source": [
    "currenttime.strftime('%I::%M::%S::%p')"
   ]
  },
  {
   "cell_type": "code",
   "execution_count": 27,
   "id": "f14d563f",
   "metadata": {},
   "outputs": [
    {
     "name": "stdout",
     "output_type": "stream",
     "text": [
      "Enter your date [d/m/y]:25/04/2023\n",
      "2023-04-25\n"
     ]
    }
   ],
   "source": [
    "# strptime: strptime is used to convert a date or time from string format to datetime format\n",
    "cdate = input('Enter your date [d/m/y]:')\n",
    "condate = datetime.datetime.strptime(cdate,'%d/%m/%Y').date()\n",
    "print(condate)"
   ]
  },
  {
   "cell_type": "markdown",
   "id": "1f226bf1",
   "metadata": {},
   "source": [
    "# EXERCISE ONE\n",
    "### HAVE A LIST OF 5 NAMES, SENDING  THEM THE MESSAGE BELOW\n",
    "### DEAR NAME, YOU ARE KINDLY INVITED TO A MATCH BETWEEN NIGERIA AND SENEGAL ON THE 26TH OF AUGUST 2023, TIME:: 5PM PROMPT "
   ]
  },
  {
   "cell_type": "code",
   "execution_count": 29,
   "id": "aef4f274",
   "metadata": {},
   "outputs": [
    {
     "name": "stdout",
     "output_type": "stream",
     "text": [
      "Dear Ade, you are kindly invited to a match between Nigeria and Senegal on the 26th of August 2023,Time::05PM\n",
      "Dear Bisi, you are kindly invited to a match between Nigeria and Senegal on the 26th of August 2023,Time::05PM\n",
      "Dear Faith, you are kindly invited to a match between Nigeria and Senegal on the 26th of August 2023,Time::05PM\n",
      "Dear Jane, you are kindly invited to a match between Nigeria and Senegal on the 26th of August 2023,Time::05PM\n",
      "Dear Samuel, you are kindly invited to a match between Nigeria and Senegal on the 26th of August 2023,Time::05PM\n"
     ]
    }
   ],
   "source": [
    "Names = ['Ade','Bisi','Faith','Jane','Samuel']\n",
    "matchdate = datetime.datetime(2023,8,26,17,0,0)\n",
    "for x in Names:\n",
    "    print(f\"Dear {x}, you are kindly invited to a match between Nigeria and Senegal on the {matchdate.strftime('%dth of %B %Y,')}Time::{matchdate.strftime('%I%p')}\")"
   ]
  },
  {
   "cell_type": "code",
   "execution_count": 30,
   "id": "2f8d0600",
   "metadata": {},
   "outputs": [
    {
     "data": {
      "text/plain": [
       "datetime.timedelta(days=480)"
      ]
     },
     "execution_count": 30,
     "metadata": {},
     "output_type": "execute_result"
    }
   ],
   "source": [
    "# time Delta\n",
    "currentdate - date1"
   ]
  },
  {
   "cell_type": "code",
   "execution_count": 32,
   "id": "7470666c",
   "metadata": {},
   "outputs": [
    {
     "data": {
      "text/plain": [
       "datetime.date(2023, 11, 17)"
      ]
     },
     "execution_count": 32,
     "metadata": {},
     "output_type": "execute_result"
    }
   ],
   "source": [
    "currentdate + datetime.timedelta(days = 150)"
   ]
  },
  {
   "cell_type": "code",
   "execution_count": 34,
   "id": "57408437",
   "metadata": {},
   "outputs": [
    {
     "data": {
      "text/plain": [
       "datetime.date(2020, 8, 4)"
      ]
     },
     "execution_count": 34,
     "metadata": {},
     "output_type": "execute_result"
    }
   ],
   "source": [
    "currentdate - datetime.timedelta(weeks = 150)"
   ]
  },
  {
   "cell_type": "markdown",
   "id": "a5bc9f2d",
   "metadata": {},
   "source": [
    "# ASK A USER FOR HIS/HER NAME AND HIS/HER APPOINTMENT DATE\n",
    "# WRITE A PROGRAM TO CALCULATE HOW MANY WEEKS AND DAYS THE USER HAS LEFT TO HIS/HER APPOINTMENT"
   ]
  },
  {
   "cell_type": "code",
   "execution_count": 40,
   "id": "671c62fc",
   "metadata": {},
   "outputs": [
    {
     "name": "stdout",
     "output_type": "stream",
     "text": [
      "Please Enter your name:James\n",
      "Enter your appointment date in this [d/m/Y]:25/04/2025\n",
      "Hey, James you have 96 weeks and 3 days until your appointment date\n"
     ]
    }
   ],
   "source": [
    "name = input('Please Enter your name:')\n",
    "strdate = input('Enter your appointment date in this [d/m/Y]:')\n",
    "appdate = datetime.datetime.strptime(strdate,'%d/%m/%Y').date()\n",
    "currentdate = datetime.date.today()\n",
    "diff = appdate - currentdate\n",
    "noweeks = diff.days//7\n",
    "nodays = diff.days % 7\n",
    "print(f'Hey, {name} you have {noweeks} weeks and {nodays} days until your appointment date')"
   ]
  },
  {
   "cell_type": "markdown",
   "id": "96fee4d0",
   "metadata": {},
   "source": [
    "# FILE HANDLING"
   ]
  },
  {
   "cell_type": "code",
   "execution_count": 43,
   "id": "bca9859e",
   "metadata": {},
   "outputs": [
    {
     "name": "stdout",
     "output_type": "stream",
     "text": [
      "# variables\n",
      "# variables cannot start with a digit\n",
      "# variables cannot have any special character except the underscore (_)\n",
      "# variables cannot have a space\n",
      "# variables are case sensitive\n",
      "# we use the = to asign values to a variable\n",
      "\n",
      "num1 = 14\n",
      "name = 'Samuel'\n",
      "num2,num3,num4 = 10,12.5,18\n",
      "x = y = z = 5\n",
      "\n",
      "# Data Types\n",
      "# float (12.0)\n",
      "# integer (78)\n",
      "# string\n",
      "# booleans [True or False]\n",
      "\n",
      "# EXERCISE\n",
      "# DECLEAR A VARIABLE AND ASIGN ANY INTEGER VALUE TO IT\n",
      "# DECLEAR A VARIABLE AND ASIGN ANY FLOAT VALUE TO IT\n",
      "# DECLEAR A VARIABLE AND ASIGN ANY STRING VALUE TO IT\n",
      "# DECLEAR A VARIABLE AND ASIGN ANY OF THE BOOLEAN VALUE TO IT\n",
      "num1 = 25\n",
      "num2 = 15.0\n",
      "surname = 'Akpos'\n",
      "X = True\n",
      "\n",
      "print(num1)\n",
      "\n",
      "#string characters\n",
      "\n",
      "## escape character\n",
      "word = 'We\\'re brother\\'s from the other side of the town'\n",
      "print(word)\n",
      "\n",
      "## New line\n",
      "\n",
      "word2 = 'DECLEAR A VARIABLE AND ASIGN ANY INTEGER VALUE TO IT,\\nDECLEAR A VARIABLE AND ASIGN ANY FLOAT VALUE TO IT,\\nDECLEAR A VARIABLE AND ASIGN ANY STRING VALUE TO IT,\\nDECLEAR A VARIABLE AND ASIGN ANY OF THE BOOLEAN VALUE TO IT'\n",
      "\n",
      "print(word2)\n",
      "\n",
      "\n",
      "## Multiline string\n",
      "word3 = '''DECLEAR A VARIABLE AND ASIGN ANY INTEGER VALUE TO IT\n",
      "DECLEAR A VARIABLE AND ASIGN ANY FLOAT VALUE TO IT\n",
      "DECLEAR A VARIABLE AND ASIGN ANY STRING VALUE TO IT\n",
      "DECLEAR A VARIABLE AND ASIGN ANY OF THE BOOLEAN VALUE TO IT\n",
      "'''\n",
      "print(word3)\n",
      "\n",
      "# string concatenation\n",
      "print('Hello' + ' ' +'World')\n",
      "\n",
      "print('My name is', name)\n",
      "\n",
      "print(surname, name)\n",
      "\n",
      "# string formatting\n",
      "price1 = 15000\n",
      "price2 = 45000\n",
      "price3 = 80000\n",
      "report = 'I have sold 4 shirts for {}, a suit for {} and a shoe for {} '\n",
      "print(report.format(price2,price3,price1))\n",
      "\n",
      "print(f'I have sold 4 shirts for {price3}, a suit for {price1} and a shoe for {price2} ')\n",
      "\n",
      "# string method\n",
      "word4 = '   python is fun'\n",
      "print(word4.upper())\n",
      "print(word4.lower())\n",
      "print(word4.title())\n",
      "print(word4.capitalize())\n",
      "print(word4.split())\n",
      "print(word4.strip())\n",
      "\n",
      "\n",
      "\n",
      "\n",
      "\n",
      "\n",
      "\n",
      "\n",
      "\n",
      "\n"
     ]
    }
   ],
   "source": [
    "file = open('day1.py','r')\n",
    "print(file.read())\n",
    "file.close()"
   ]
  },
  {
   "cell_type": "code",
   "execution_count": 47,
   "id": "f8cc5753",
   "metadata": {},
   "outputs": [],
   "source": [
    "file = open('demo.txt','w')\n",
    "file.write('''Multiline string\n",
    "word3 = DECLEAR A VARIABLE AND ASIGN ANY INTEGER VALUE TO IT\n",
    "DECLEAR A VARIABLE AND ASIGN ANY FLOAT VALUE TO IT\n",
    "DECLEAR A VARIABLE AND ASIGN ANY STRING VALUE TO IT\n",
    "DECLEAR A VARIABLE AND ASIGN ANY OF THE BOOLEAN VALUE TO IT\n",
    "''')\n",
    "file.close()"
   ]
  },
  {
   "cell_type": "code",
   "execution_count": null,
   "id": "ff477927",
   "metadata": {},
   "outputs": [],
   "source": []
  }
 ],
 "metadata": {
  "kernelspec": {
   "display_name": "Python 3 (ipykernel)",
   "language": "python",
   "name": "python3"
  },
  "language_info": {
   "codemirror_mode": {
    "name": "ipython",
    "version": 3
   },
   "file_extension": ".py",
   "mimetype": "text/x-python",
   "name": "python",
   "nbconvert_exporter": "python",
   "pygments_lexer": "ipython3",
   "version": "3.9.12"
  }
 },
 "nbformat": 4,
 "nbformat_minor": 5
}
