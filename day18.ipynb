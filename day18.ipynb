{
 "cells": [
  {
   "cell_type": "code",
   "execution_count": null,
   "id": "17cb1788",
   "metadata": {},
   "outputs": [],
   "source": [
    "# Final Exam Testing\n",
    "### 1. Differenciate between global and local variables\n",
    "### 2. List all the data types we studied in the course of the program\n",
    "### 3. Which of the iterable object is mutable\n",
    "### 4. what will be the outcome of the following lines of code\n",
    "### for i in range(12):\n",
    "###      print(i)\n",
    "### 5.variable is a program element that will used to store input data, variable can also be know as what___?"
   ]
  },
  {
   "cell_type": "code",
   "execution_count": null,
   "id": "cfed9b5f",
   "metadata": {},
   "outputs": [],
   "source": []
  }
 ],
 "metadata": {
  "kernelspec": {
   "display_name": "Python 3 (ipykernel)",
   "language": "python",
   "name": "python3"
  },
  "language_info": {
   "codemirror_mode": {
    "name": "ipython",
    "version": 3
   },
   "file_extension": ".py",
   "mimetype": "text/x-python",
   "name": "python",
   "nbconvert_exporter": "python",
   "pygments_lexer": "ipython3",
   "version": "3.9.12"
  }
 },
 "nbformat": 4,
 "nbformat_minor": 5
}
