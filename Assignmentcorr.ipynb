{
 "cells": [
  {
   "cell_type": "code",
   "execution_count": 3,
   "id": "1af30d62",
   "metadata": {},
   "outputs": [
    {
     "name": "stdout",
     "output_type": "stream",
     "text": [
      "15 + 48 = 63\n",
      "65 + 34 = 99\n",
      "87 + 91 = 178\n",
      "95 + 81 = 176\n",
      "45 + 56 = 101\n",
      "The time taken to answer 5 question is 5 seconds and your score is 25\n"
     ]
    }
   ],
   "source": [
    "import datetime\n",
    "import random\n",
    "score = 0\n",
    "diff = 0\n",
    "for i in range(1,6):\n",
    "    num1 = random.randint(10,99)\n",
    "    num2 = random.randint(10,99)\n",
    "    starttime = datetime.datetime.now()\n",
    "    answer = int(input(f'{num1} + {num2} = '))\n",
    "    if answer == sum([num1,num2]):\n",
    "        score += 5\n",
    "    else:\n",
    "        score +=0\n",
    "    stoptime = datetime.datetime.now()\n",
    "    diff = stoptime - starttime\n",
    "print(f'The time taken to answer 5 question is {diff.seconds} seconds and your score is {score}')\n",
    "    "
   ]
  },
  {
   "cell_type": "code",
   "execution_count": null,
   "id": "dcf37303",
   "metadata": {},
   "outputs": [],
   "source": []
  }
 ],
 "metadata": {
  "kernelspec": {
   "display_name": "Python 3 (ipykernel)",
   "language": "python",
   "name": "python3"
  },
  "language_info": {
   "codemirror_mode": {
    "name": "ipython",
    "version": 3
   },
   "file_extension": ".py",
   "mimetype": "text/x-python",
   "name": "python",
   "nbconvert_exporter": "python",
   "pygments_lexer": "ipython3",
   "version": "3.9.12"
  }
 },
 "nbformat": 4,
 "nbformat_minor": 5
}
