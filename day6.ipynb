{
 "cells": [
  {
   "cell_type": "markdown",
   "id": "f29a8eb1",
   "metadata": {},
   "source": [
    "# FUNCTIONS"
   ]
  },
  {
   "cell_type": "code",
   "execution_count": 3,
   "id": "c6c319cb",
   "metadata": {},
   "outputs": [
    {
     "data": {
      "text/plain": [
       "'Welcome on board'"
      ]
     },
     "execution_count": 3,
     "metadata": {},
     "output_type": "execute_result"
    }
   ],
   "source": [
    "def greet():\n",
    "    return('Welcome on board')\n",
    "greet()"
   ]
  },
  {
   "cell_type": "code",
   "execution_count": 4,
   "id": "68f88bb9",
   "metadata": {},
   "outputs": [
    {
     "data": {
      "text/plain": [
       "'Welcome on board'"
      ]
     },
     "execution_count": 4,
     "metadata": {},
     "output_type": "execute_result"
    }
   ],
   "source": [
    "greet()"
   ]
  },
  {
   "cell_type": "code",
   "execution_count": 7,
   "id": "6a191f05",
   "metadata": {},
   "outputs": [
    {
     "data": {
      "text/plain": [
       "'Welcome on board Ade'"
      ]
     },
     "execution_count": 7,
     "metadata": {},
     "output_type": "execute_result"
    }
   ],
   "source": [
    "def greet2(name):\n",
    "    return f'Welcome on board {name}'\n",
    "greet2('Ade')"
   ]
  },
  {
   "cell_type": "code",
   "execution_count": 8,
   "id": "ed3ea7bd",
   "metadata": {},
   "outputs": [
    {
     "data": {
      "text/plain": [
       "'Welcome on board Mary'"
      ]
     },
     "execution_count": 8,
     "metadata": {},
     "output_type": "execute_result"
    }
   ],
   "source": [
    "greet2('Mary')"
   ]
  },
  {
   "cell_type": "code",
   "execution_count": 9,
   "id": "6132b63e",
   "metadata": {},
   "outputs": [
    {
     "data": {
      "text/plain": [
       "'Welcome on board Samuel'"
      ]
     },
     "execution_count": 9,
     "metadata": {},
     "output_type": "execute_result"
    }
   ],
   "source": [
    "greet2('Samuel')"
   ]
  },
  {
   "cell_type": "code",
   "execution_count": 12,
   "id": "cb3ef935",
   "metadata": {},
   "outputs": [
    {
     "name": "stdout",
     "output_type": "stream",
     "text": [
      "CITIZEN DETAILS\n",
      "NAME: Sam\n",
      "GENDER: Male\n",
      "AGE: 15\n",
      "\n",
      "You are not eligible to vote\n"
     ]
    }
   ],
   "source": [
    "def vote(name,gender,age):\n",
    "    print(f'''CITIZEN DETAILS\n",
    "NAME: {name}\n",
    "GENDER: {gender}\n",
    "AGE: {age}\n",
    "''')\n",
    "    if age >= 18:\n",
    "        print('You ar eligible to vote')\n",
    "    else:\n",
    "        print('You are not eligible to vote')\n",
    "vote('Sam','Male',15)"
   ]
  },
  {
   "cell_type": "code",
   "execution_count": 13,
   "id": "b86fc4b0",
   "metadata": {},
   "outputs": [
    {
     "name": "stdout",
     "output_type": "stream",
     "text": [
      "CITIZEN DETAILS\n",
      "NAME: Akin\n",
      "GENDER: Male\n",
      "AGE: 48\n",
      "\n",
      "You ar eligible to vote\n"
     ]
    }
   ],
   "source": [
    "vote('Akin','Male',48)"
   ]
  },
  {
   "cell_type": "code",
   "execution_count": 16,
   "id": "82e12d7a",
   "metadata": {},
   "outputs": [
    {
     "name": "stdout",
     "output_type": "stream",
     "text": [
      "CITIZEN DETAILS\n",
      "NAME: Sam\n",
      "GENDER: Male\n",
      "AGE: 18\n",
      "\n",
      "You ar eligible to vote\n"
     ]
    }
   ],
   "source": [
    "def vote2(name,gender,age = 18):\n",
    "    print(f'''CITIZEN DETAILS\n",
    "NAME: {name}\n",
    "GENDER: {gender}\n",
    "AGE: {age}\n",
    "''')\n",
    "    if age >= 18:\n",
    "        print('You ar eligible to vote')\n",
    "    else:\n",
    "        print('You are not eligible to vote')\n",
    "vote2('Sam','Male')"
   ]
  },
  {
   "cell_type": "markdown",
   "id": "9e3a448d",
   "metadata": {},
   "source": [
    "# EXERCISE\n",
    "# WRITE A FUNCTION TO ROLL A DICE BETWEEN TWO USERS 10 TIMES GET THE WINNER FOR EACH ROUND AND THE OVERALL WINNER"
   ]
  },
  {
   "cell_type": "code",
   "execution_count": 17,
   "id": "93fbdaca",
   "metadata": {},
   "outputs": [
    {
     "name": "stdout",
     "output_type": "stream",
     "text": [
      "Player One score: 6\n",
      "Player Two score: 12\n",
      "PLAYER TWO WINS\n",
      "Player One score: 7\n",
      "Player Two score: 3\n",
      "PLAYER ONE WINS\n",
      "Player One score: 6\n",
      "Player Two score: 7\n",
      "PLAYER TWO WINS\n",
      "Player One score: 4\n",
      "Player Two score: 7\n",
      "PLAYER TWO WINS\n",
      "Player One score: 6\n",
      "Player Two score: 5\n",
      "PLAYER ONE WINS\n",
      "Player One score: 6\n",
      "Player Two score: 8\n",
      "PLAYER TWO WINS\n",
      "Player One score: 8\n",
      "Player Two score: 7\n",
      "PLAYER ONE WINS\n",
      "Player One score: 9\n",
      "Player Two score: 6\n",
      "PLAYER ONE WINS\n",
      "Player One score: 10\n",
      "Player Two score: 4\n",
      "PLAYER ONE WINS\n",
      "Player One score: 9\n",
      "Player Two score: 6\n",
      "PLAYER ONE WINS\n",
      "Player One is the overall winner by 30 point\n"
     ]
    }
   ],
   "source": [
    "def rolldice():\n",
    "    score1 = 0\n",
    "    score2 = 0\n",
    "    import random\n",
    "    for i in range(1,11):\n",
    "        dice1 = random.randint(1,6) + random.randint(1,6)\n",
    "        dice2 = random.randint(1,6) + random.randint(1,6)\n",
    "        \n",
    "        if dice1 > dice2:\n",
    "            print(f'Player One score: {dice1}')\n",
    "            print(f'Player Two score: {dice2}')\n",
    "            print('PLAYER ONE WINS')\n",
    "            score1 +=5\n",
    "        elif dice2 > dice1:\n",
    "            print(f'Player One score: {dice1}')\n",
    "            print(f'Player Two score: {dice2}')\n",
    "            print('PLAYER TWO WINS')\n",
    "            score2 +=5\n",
    "        else:\n",
    "            print(f'Player One score: {dice1}')\n",
    "            print(f'Player Two score: {dice2}')\n",
    "            print('IT IS A DRAW')\n",
    "            score1 +=1\n",
    "            score2 +=1\n",
    "    if score1 > score2:\n",
    "        print(f'Player One is the overall winner by {score1} point')\n",
    "    elif score2 > score1:\n",
    "        print(f'Player Two is the overall winner by {score2} point')\n",
    "    else:\n",
    "        print('IT is a Draw')\n",
    "rolldice()"
   ]
  },
  {
   "cell_type": "code",
   "execution_count": null,
   "id": "60cb1b69",
   "metadata": {},
   "outputs": [],
   "source": [
    "def rolldice2():\n",
    "    score1 = 0\n",
    "    score2 = 0\n",
    "    import random\n",
    "    counter = 1\n",
    "    while counter <=10:\n",
    "        dice1 = random.randint(1,6) + random.randint(1,6)\n",
    "        dice2 = random.randint(1,6) + random.randint(1,6)\n",
    "        \n",
    "        if dice1 > dice2:\n",
    "            print(f'Player One score: {dice1}')\n",
    "            print(f'Player Two score: {dice2}')\n",
    "            print('PLAYER ONE WINS')\n",
    "            score1 +=5\n",
    "        elif dice2 > dice1:\n",
    "            print(f'Player One score: {dice1}')\n",
    "            print(f'Player Two score: {dice2}')\n",
    "            print('PLAYER TWO WINS')\n",
    "            score2 +=5\n",
    "        else:\n",
    "            print(f'Player One score: {dice1}')\n",
    "            print(f'Player Two score: {dice2}')\n",
    "            print('IT IS A DRAW')\n",
    "            score1 +=1\n",
    "            score2 +=1\n",
    "        counter +=1\n",
    "    if score1 > score2:\n",
    "        print(f'Player One is the overall winner by {score1} point')\n",
    "    elif score2 > score1:\n",
    "        print(f'Player Two is the overall winner by {score2} point')\n",
    "    else:\n",
    "        print('IT is a Draw')\n",
    "rolldice()"
   ]
  }
 ],
 "metadata": {
  "kernelspec": {
   "display_name": "Python 3 (ipykernel)",
   "language": "python",
   "name": "python3"
  },
  "language_info": {
   "codemirror_mode": {
    "name": "ipython",
    "version": 3
   },
   "file_extension": ".py",
   "mimetype": "text/x-python",
   "name": "python",
   "nbconvert_exporter": "python",
   "pygments_lexer": "ipython3",
   "version": "3.9.12"
  }
 },
 "nbformat": 4,
 "nbformat_minor": 5
}
