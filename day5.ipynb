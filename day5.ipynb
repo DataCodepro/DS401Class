{
 "cells": [
  {
   "cell_type": "markdown",
   "id": "a472bc1f",
   "metadata": {},
   "source": [
    "# EXERCISE\n",
    "### J&B Mall has 5 floors and on each floor four shop each write a program for  lift to navigate through each floor and each shop"
   ]
  },
  {
   "cell_type": "markdown",
   "id": "c189cd6f",
   "metadata": {},
   "source": [
    "# LOOPS"
   ]
  },
  {
   "cell_type": "code",
   "execution_count": 1,
   "id": "ca00beca",
   "metadata": {},
   "outputs": [
    {
     "name": "stdout",
     "output_type": "stream",
     "text": [
      "ppp\n",
      "yyy\n",
      "ttt\n",
      "hhh\n",
      "ooo\n",
      "nnn\n"
     ]
    }
   ],
   "source": [
    "word = 'python'\n",
    "for x in word:\n",
    "    print(x * 3)"
   ]
  },
  {
   "cell_type": "code",
   "execution_count": 3,
   "id": "c2e86fe0",
   "metadata": {},
   "outputs": [
    {
     "name": "stdout",
     "output_type": "stream",
     "text": [
      "ppp::yyy::ttt::hhh::ooo::nnn::"
     ]
    }
   ],
   "source": [
    "word = 'python'\n",
    "for x in word:\n",
    "    print(x * 3,end ='::')"
   ]
  },
  {
   "cell_type": "code",
   "execution_count": 4,
   "id": "d9fd596f",
   "metadata": {},
   "outputs": [
    {
     "name": "stdout",
     "output_type": "stream",
     "text": [
      "Hey Sam, be remided of our class meeting\n",
      "Hey Hope, be remided of our class meeting\n",
      "Hey Bob, be remided of our class meeting\n",
      "Hey Faith, be remided of our class meeting\n"
     ]
    }
   ],
   "source": [
    "names = ['Sam','Hope','Bob','Faith']\n",
    "for x in names:\n",
    "    print(f'Hey {x}, be remided of our class meeting')"
   ]
  },
  {
   "cell_type": "code",
   "execution_count": 8,
   "id": "821d646c",
   "metadata": {},
   "outputs": [
    {
     "name": "stdout",
     "output_type": "stream",
     "text": [
      "press in floor button:1\n",
      "Enter the shop number\n",
      "1.Spa\n",
      "2.Saloon\n",
      "3.Game House\n",
      "4.Abijo Pro\n",
      "3\n",
      "Shop 3 is the first shop on the Right\n"
     ]
    }
   ],
   "source": [
    "JandB = {\n",
    "    '1':['Spa','Saloon','Game House','Abijo Pro'],\n",
    "    '2':['Computer Training Center','JT Wears','Four Gospel','SHAP'],\n",
    "    '3':['Snacks Free','Phone Plus','FD Book Shop','HG Supermarket'],\n",
    "    '4':['GF Pharmacy','JOHN VET','ROLE Cold Room','Ccocola Deport'],\n",
    "    '5':['Mini Bar','Sport Center1','Sport Center2','Lounge']\n",
    "}\n",
    "floor = input('press in floor button:')\n",
    "for key in JandB:\n",
    "    if floor == key:\n",
    "        option = input(f'''Enter the shop number\n",
    "1.{JandB[floor][0]}\n",
    "2.{JandB[floor][1]}\n",
    "3.{JandB[floor][2]}\n",
    "4.{JandB[floor][3]}\n",
    "''')\n",
    "        if option == '1':\n",
    "            print('Shop 1 is the first shop on the left')\n",
    "        elif option == '2':\n",
    "            print('Shop 2 is the second shop on the left')\n",
    "        elif option == '3':\n",
    "            print('Shop 3 is the first shop on the Right')\n",
    "        elif option == '4':\n",
    "            print('Shop 4 is the second shop on the Right')"
   ]
  },
  {
   "cell_type": "code",
   "execution_count": 9,
   "id": "5cd070a3",
   "metadata": {},
   "outputs": [],
   "source": [
    "# WHILE LOOP"
   ]
  },
  {
   "cell_type": "code",
   "execution_count": 15,
   "id": "0c3265c7",
   "metadata": {},
   "outputs": [
    {
     "name": "stdout",
     "output_type": "stream",
     "text": [
      "Enter a number:54\n",
      "The SQRT of 54 is 7.3484692283495345\n",
      "Enter a number:0\n"
     ]
    }
   ],
   "source": [
    "import math\n",
    "num = int(input('Enter a number:'))\n",
    "counter = 0\n",
    "while num != 0:\n",
    "    print(f'The SQRT of {num} is {math.sqrt(num)}')\n",
    "    num = int(input('Enter a number:'))\n",
    "    counter = counter + 1"
   ]
  },
  {
   "cell_type": "code",
   "execution_count": 12,
   "id": "8f4731e1",
   "metadata": {},
   "outputs": [
    {
     "data": {
      "text/plain": [
       "6"
      ]
     },
     "execution_count": 12,
     "metadata": {},
     "output_type": "execute_result"
    }
   ],
   "source": [
    "counter"
   ]
  },
  {
   "cell_type": "code",
   "execution_count": 27,
   "id": "dddecac6",
   "metadata": {},
   "outputs": [
    {
     "name": "stdout",
     "output_type": "stream",
     "text": [
      "Enter car km traveled:1500\n",
      "Break destination 3\n",
      "Enter car km traveled:2000\n",
      "You have reach your destination:\n"
     ]
    }
   ],
   "source": [
    "carkm = float(input('Enter car km traveled:'))\n",
    "counter = 0\n",
    "while carkm != 2000:\n",
    "    if carkm >= 100 and carkm <= 500:\n",
    "        print('Break destination 1')\n",
    "    elif carkm > 500 and carkm <= 1000:\n",
    "        print('Break destination 2')\n",
    "    elif carkm > 1000 and carkm <= 1500:\n",
    "        print('Break destination 3')\n",
    "    counter +=1\n",
    "    carkm = float(input('Enter car km traveled:'))\n",
    "print('You have reach your destination:')\n"
   ]
  },
  {
   "cell_type": "markdown",
   "id": "1e78ec9a",
   "metadata": {},
   "source": [
    "## write a program to ask for a user registration id to print out the grade in four subject including the sum total\n",
    "## have a record of students"
   ]
  },
  {
   "cell_type": "code",
   "execution_count": 32,
   "id": "688092be",
   "metadata": {},
   "outputs": [
    {
     "name": "stdout",
     "output_type": "stream",
     "text": [
      "Enter your Registration ID:reg001\n",
      "NAME:Ade John\n",
      "AGE:17\n",
      "GENDER:Male\n",
      "PHYSICS:78\n",
      "MATH:98\n",
      "ENGLISH:90\n",
      "CHEMISTRY:90\n",
      "TOTAL: 356\n",
      "\n"
     ]
    }
   ],
   "source": [
    "student_records = {\n",
    "    'reg001':{'Name':'Ade John','Age':17,'Gender':'Male','Physics':78,'Math':98,'English':90,'Chemistry':90},\n",
    "    'reg002':{'Name':'Faith Akpan','Age':16,'Gender':'Female','Physics':80,'Math':78,'English':75,'Chemistry':77},\n",
    "    'reg003':{'Name':'Samuel Lawal','Age':16,'Gender':'Male','Physics':73,'Math':65,'English':78,'Chemistry':72},\n",
    "    'reg004':{'Name':'Okoro Mary','Age':15,'Gender':'Female','Physics':85,'Math':70,'English':95,'Chemistry':87},\n",
    "    'reg005':{'Name':'Ade Lawal','Age':15,'Gender':'Male','Physics':90,'Math':82,'English':80,'Chemistry':88}\n",
    "}\n",
    "regid = input('Enter your Registration ID:')\n",
    "for key in student_records:\n",
    "    if regid == key:\n",
    "        print(f'''NAME:{student_records[regid]['Name']}\n",
    "AGE:{student_records[regid]['Age']}\n",
    "GENDER:{student_records[regid]['Gender']}\n",
    "PHYSICS:{student_records[regid]['Physics']}\n",
    "MATH:{student_records[regid]['Math']}\n",
    "ENGLISH:{student_records[regid]['English']}\n",
    "CHEMISTRY:{student_records[regid]['Chemistry']}\n",
    "TOTAL: {student_records[regid]['Physics'] + student_records[regid]['Math'] + student_records[regid]['English']+ student_records[regid]['Chemistry']}\n",
    "''')\n",
    "        break\n",
    "else:\n",
    "    print('Record not found')"
   ]
  },
  {
   "cell_type": "code",
   "execution_count": null,
   "id": "a04860a3",
   "metadata": {},
   "outputs": [],
   "source": []
  }
 ],
 "metadata": {
  "kernelspec": {
   "display_name": "Python 3 (ipykernel)",
   "language": "python",
   "name": "python3"
  },
  "language_info": {
   "codemirror_mode": {
    "name": "ipython",
    "version": 3
   },
   "file_extension": ".py",
   "mimetype": "text/x-python",
   "name": "python",
   "nbconvert_exporter": "python",
   "pygments_lexer": "ipython3",
   "version": "3.9.12"
  }
 },
 "nbformat": 4,
 "nbformat_minor": 5
}
