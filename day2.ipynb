{
 "cells": [
  {
   "cell_type": "markdown",
   "id": "0cf7d2ce",
   "metadata": {},
   "source": [
    "# Data conversion"
   ]
  },
  {
   "cell_type": "code",
   "execution_count": 1,
   "id": "d72b8c37",
   "metadata": {},
   "outputs": [
    {
     "name": "stdout",
     "output_type": "stream",
     "text": [
      "45\n"
     ]
    }
   ],
   "source": [
    "num1 = int(45.23)\n",
    "print(num1)"
   ]
  },
  {
   "cell_type": "code",
   "execution_count": 2,
   "id": "0afbe3d2",
   "metadata": {},
   "outputs": [
    {
     "name": "stdout",
     "output_type": "stream",
     "text": [
      "45.0\n"
     ]
    }
   ],
   "source": [
    "print(float(num1))"
   ]
  },
  {
   "cell_type": "code",
   "execution_count": 6,
   "id": "a267bf51",
   "metadata": {},
   "outputs": [
    {
     "ename": "ValueError",
     "evalue": "could not convert string to float: '85L'",
     "output_type": "error",
     "traceback": [
      "\u001b[1;31m---------------------------------------------------------------------------\u001b[0m",
      "\u001b[1;31mValueError\u001b[0m                                Traceback (most recent call last)",
      "Input \u001b[1;32mIn [6]\u001b[0m, in \u001b[0;36m<cell line: 2>\u001b[1;34m()\u001b[0m\n\u001b[0;32m      1\u001b[0m word \u001b[38;5;241m=\u001b[39m \u001b[38;5;124m'\u001b[39m\u001b[38;5;124m85L\u001b[39m\u001b[38;5;124m'\u001b[39m\n\u001b[1;32m----> 2\u001b[0m \u001b[38;5;28mprint\u001b[39m(\u001b[38;5;28;43mfloat\u001b[39;49m\u001b[43m(\u001b[49m\u001b[43mword\u001b[49m\u001b[43m)\u001b[49m)\n",
      "\u001b[1;31mValueError\u001b[0m: could not convert string to float: '85L'"
     ]
    }
   ],
   "source": [
    "word = '85L'\n",
    "print(float(word))"
   ]
  },
  {
   "cell_type": "code",
   "execution_count": 7,
   "id": "348c2554",
   "metadata": {},
   "outputs": [
    {
     "name": "stdout",
     "output_type": "stream",
     "text": [
      "45\n"
     ]
    }
   ],
   "source": [
    "print(str(num1))"
   ]
  },
  {
   "cell_type": "markdown",
   "id": "a479111c",
   "metadata": {},
   "source": [
    "# NOTE\n",
    "# INTERGER  CAN BE CONVERTED TO FLOAT AND STRING\n",
    "# FLOAT CAN BE CONVERTED TO INTEGER AND STRING\n",
    "# STRING CANNOT BE CONVERTED TO FLOAT OR INTEGER EXCEPT THE STRING VALUE IS A DIGIT"
   ]
  },
  {
   "cell_type": "code",
   "execution_count": 8,
   "id": "72b0918e",
   "metadata": {},
   "outputs": [],
   "source": [
    "# input function"
   ]
  },
  {
   "cell_type": "code",
   "execution_count": 21,
   "id": "8638e289",
   "metadata": {},
   "outputs": [
    {
     "name": "stdout",
     "output_type": "stream",
     "text": [
      "Please provide your name:GFFF\n"
     ]
    }
   ],
   "source": [
    "name = input('Please provide your name:')"
   ]
  },
  {
   "cell_type": "code",
   "execution_count": 22,
   "id": "7da690fc",
   "metadata": {},
   "outputs": [
    {
     "name": "stdout",
     "output_type": "stream",
     "text": [
      "GFFF\n"
     ]
    }
   ],
   "source": [
    "print(name)"
   ]
  },
  {
   "cell_type": "code",
   "execution_count": 15,
   "id": "91b690ba",
   "metadata": {},
   "outputs": [
    {
     "name": "stdout",
     "output_type": "stream",
     "text": [
      "<class 'str'>\n"
     ]
    }
   ],
   "source": [
    "print(type(name))"
   ]
  },
  {
   "cell_type": "code",
   "execution_count": 20,
   "id": "123c0fc6",
   "metadata": {},
   "outputs": [
    {
     "name": "stdout",
     "output_type": "stream",
     "text": [
      "Please provide your age:12\n"
     ]
    }
   ],
   "source": [
    "age = float(input('Please provide your age:'))"
   ]
  },
  {
   "cell_type": "markdown",
   "id": "ba0dbdcb",
   "metadata": {},
   "source": [
    "# OPERATORS"
   ]
  },
  {
   "cell_type": "markdown",
   "id": "a34abf02",
   "metadata": {},
   "source": [
    "## ARITHEMIC OPERATORS\n",
    "### ADDITION +\n",
    "### SUBTRACTION -\n",
    "### MULTIPLICATION *\n",
    "### DIVISION /\n",
    "### MODULUS %\n",
    "### INTEGER DIVISION //\n",
    "### EXPONENTIAL **"
   ]
  },
  {
   "cell_type": "code",
   "execution_count": 25,
   "id": "83109d5e",
   "metadata": {},
   "outputs": [
    {
     "name": "stdout",
     "output_type": "stream",
     "text": [
      "Enter first number:100\n",
      "Enter second number:26\n",
      "100 + 26 = 126\n",
      "100 - 26 = 74\n",
      "100 * 26 = 2600\n",
      "100 / 26 = 3.8461538461538463\n",
      "100 % 26 = 22\n",
      "100 // 26 = 3\n",
      "100 ** 26 = 10000000000000000000000000000000000000000000000000000\n"
     ]
    }
   ],
   "source": [
    "num1 = int(input('Enter first number:'))\n",
    "num2 = int(input('Enter second number:'))\n",
    "print(f'{num1} + {num2} = {num1 + num2}')\n",
    "print(f'{num1} - {num2} = {num1 - num2}')\n",
    "print(f'{num1} * {num2} = {num1 * num2}')\n",
    "print(f'{num1} / {num2} = {num1 / num2}')\n",
    "print(f'{num1} % {num2} = {num1 % num2}')\n",
    "print(f'{num1} // {num2} = {num1 // num2}')\n",
    "print(f'{num1} ** {num2} = {num1 ** num2}')"
   ]
  },
  {
   "cell_type": "markdown",
   "id": "9da787ef",
   "metadata": {},
   "source": [
    "## COMPARISON OPERATORS\n",
    "### GREATER THAN > \n",
    "### LESS THAN < \n",
    "### GREATER THAN OR EQUAL TO >=\n",
    "### LESS THAN OR EQUAL TO <=\n",
    "### EQUAL TO  ==\n",
    "### NOT EQUAL TO !="
   ]
  },
  {
   "cell_type": "code",
   "execution_count": 26,
   "id": "e10c5313",
   "metadata": {},
   "outputs": [
    {
     "name": "stdout",
     "output_type": "stream",
     "text": [
      "Enter first number:21\n",
      "Enter second number:21\n",
      "21 > 21 = False\n",
      "21 < 21 = False\n",
      "21 >= 21 = True\n",
      "21 <= 21 = True\n",
      "21 == 21 = True\n",
      "21 != 21 = False\n"
     ]
    }
   ],
   "source": [
    "num1 = int(input('Enter first number:'))\n",
    "num2 = int(input('Enter second number:'))\n",
    "print(f'{num1} > {num2} = {num1 > num2}')\n",
    "print(f'{num1} < {num2} = {num1 < num2}')\n",
    "print(f'{num1} >= {num2} = {num1 >= num2}')\n",
    "print(f'{num1} <= {num2} = {num1 <= num2}')\n",
    "print(f'{num1} == {num2} = {num1 == num2}')\n",
    "print(f'{num1} != {num2} = {num1 != num2}')"
   ]
  },
  {
   "cell_type": "markdown",
   "id": "47781b58",
   "metadata": {},
   "source": [
    "## LOGICAL OPERATORS\n",
    "### AND\n",
    "### OR \n",
    "### NOT"
   ]
  },
  {
   "cell_type": "code",
   "execution_count": 28,
   "id": "bcaf204a",
   "metadata": {},
   "outputs": [
    {
     "name": "stdout",
     "output_type": "stream",
     "text": [
      "Enter first number:21\n",
      "Enter second number:21\n",
      "False\n",
      "True\n",
      "False\n"
     ]
    }
   ],
   "source": [
    "num1 = int(input('Enter first number:'))\n",
    "num2 = int(input('Enter second number:'))\n",
    "print(num1 > num2 and num1 == num2)\n",
    "print(num1 > num2 or num1 == num2)\n",
    "print(not num1)"
   ]
  },
  {
   "cell_type": "markdown",
   "id": "453c4fb1",
   "metadata": {},
   "source": [
    "## MEMBERSHIP OPERATORS\n",
    "## IN\n",
    "## NOT IN"
   ]
  },
  {
   "cell_type": "code",
   "execution_count": 29,
   "id": "97f871bd",
   "metadata": {},
   "outputs": [
    {
     "name": "stdout",
     "output_type": "stream",
     "text": [
      "True\n",
      "True\n"
     ]
    }
   ],
   "source": [
    "word = 'earlycode'\n",
    "print('ly' in word)\n",
    "print('lY' not in word)"
   ]
  },
  {
   "cell_type": "markdown",
   "id": "1bcb07b1",
   "metadata": {},
   "source": [
    "## IDENTITY OPERATORS\n",
    "## IS\n",
    "## IS NOT"
   ]
  },
  {
   "cell_type": "code",
   "execution_count": 30,
   "id": "8ff9c3e9",
   "metadata": {},
   "outputs": [
    {
     "name": "stdout",
     "output_type": "stream",
     "text": [
      "True\n",
      "False\n"
     ]
    }
   ],
   "source": [
    "print(num1 is num2)\n",
    "print(num1 is not num2)"
   ]
  },
  {
   "cell_type": "markdown",
   "id": "6f18b038",
   "metadata": {},
   "source": [
    "# -"
   ]
  },
  {
   "cell_type": "code",
   "execution_count": 34,
   "id": "547d65ad",
   "metadata": {},
   "outputs": [
    {
     "name": "stdout",
     "output_type": "stream",
     "text": [
      "Enter the numbers of apple to purchase:100\n",
      "the total cost of 100 apples at $0.5 each is $50.0\n"
     ]
    }
   ],
   "source": [
    "sp = 0.50\n",
    "numbers_of_apples = int(input('Enter the numbers of apple to purchase:'))\n",
    "total_cost = sp * numbers_of_apples\n",
    "print(f'the total cost of {numbers_of_apples} apples at ${sp} each is ${total_cost}')"
   ]
  },
  {
   "cell_type": "code",
   "execution_count": null,
   "id": "361b899e",
   "metadata": {},
   "outputs": [],
   "source": []
  }
 ],
 "metadata": {
  "kernelspec": {
   "display_name": "Python 3 (ipykernel)",
   "language": "python",
   "name": "python3"
  },
  "language_info": {
   "codemirror_mode": {
    "name": "ipython",
    "version": 3
   },
   "file_extension": ".py",
   "mimetype": "text/x-python",
   "name": "python",
   "nbconvert_exporter": "python",
   "pygments_lexer": "ipython3",
   "version": "3.9.12"
  }
 },
 "nbformat": 4,
 "nbformat_minor": 5
}
