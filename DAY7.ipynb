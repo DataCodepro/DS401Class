{
 "cells": [
  {
   "cell_type": "markdown",
   "id": "7fca791e",
   "metadata": {},
   "source": [
    "# EXERCISE\n",
    "### WRITE A FUNCTION TO DO THE FOLLOWING TASK\n",
    "### TRANSFER MONEY FROM USER'S BALANCE\n",
    "### DEPOSIT TO USER'S BALANCE\n",
    "### WITHDRAW FROM USER'S ACCOUNT\n",
    "### BUY AIRTIME OR DATA FROM USER'S ACCOUNT\n",
    "### NOTE FOR EVERY OPERATION THE BALANCE MUST BE UPDATED"
   ]
  },
  {
   "cell_type": "code",
   "execution_count": null,
   "id": "48fa1aa3",
   "metadata": {},
   "outputs": [],
   "source": [
    "def mobileapp():\n",
    "    balance = 0\n",
    "    transaction = input('Choose Transaction option[deposit, withdraw,transfer,bundles]:')\n",
    "    if transaction == 'deposit':\n",
    "        amount = float(input('Enter deposit amount:'))\n",
    "        balance +=amount\n",
    "        print('Transaction succesful')\n",
    "        print(f'Your Available Balance is {balance}')\n",
    "    elif transaction == 'withdraw':\n",
    "        amount = float(input('Enter withdraw amount:'))\n",
    "        if amount == 0 or amount > balance:\n",
    "            print('Insufficient Funds')\n",
    "        else:\n",
    "            balance -= amount\n",
    "            print('Transaction succesful')\n",
    "            print(f'Your Available Balance is {balance}')\n",
    "    elif transaction == 'transfer':\n",
    "        amount = float(input('Enter transfer amount:'))\n",
    "        if amount == 0 or amount > balance:\n",
    "            print('Insufficient Funds')\n",
    "        else:\n",
    "            accountnumber = input('Enter Destination account number:')\n",
    "            bankname = input('Enter Destination Bank Name:')\n",
    "            balance -= amount\n",
    "            print('Transaction succesful')\n",
    "            print(f'Your Available Balance is {balance}')\n",
    "    elif transaction == 'bundles':\n",
    "        amount = float(input('Enter bundles amount:'))\n",
    "        if amount == 0 or amount > balance:\n",
    "            print('Insufficient Funds')\n",
    "        else:\n",
    "            phonenumber = input('Enter phone number:')\n",
    "            provider = input('Enter Network Provider:')\n",
    "            balance -= amount\n",
    "            print('Transaction succesful')\n",
    "            print(f'Your Available Balance is {balance}')\n",
    "mobileapp()"
   ]
  },
  {
   "cell_type": "markdown",
   "id": "20de3b5e",
   "metadata": {},
   "source": [
    "# VARIABLE LENGTH FUNCTION"
   ]
  },
  {
   "cell_type": "code",
   "execution_count": 2,
   "id": "67c7d522",
   "metadata": {},
   "outputs": [
    {
     "name": "stdout",
     "output_type": "stream",
     "text": [
      "The Averge of the following numbers is 68.67\n"
     ]
    }
   ],
   "source": [
    "def average(*num):\n",
    "    avg = sum(num)/len(num)\n",
    "    print(f'The Averge of the following numbers is {round(avg,2)}')\n",
    "average(34,45,67,78,98,90)"
   ]
  },
  {
   "cell_type": "code",
   "execution_count": 3,
   "id": "a3168d85",
   "metadata": {},
   "outputs": [
    {
     "name": "stdout",
     "output_type": "stream",
     "text": [
      "The Averge of the following numbers is 63.88\n"
     ]
    }
   ],
   "source": [
    "numbers = [74,58,98,56,54,58,57,56]\n",
    "average(*numbers)"
   ]
  },
  {
   "cell_type": "code",
   "execution_count": 4,
   "id": "b9751e5a",
   "metadata": {},
   "outputs": [
    {
     "name": "stdout",
     "output_type": "stream",
     "text": [
      "name :: Ade\n",
      "Age :: 45\n",
      "Gender :: Male\n"
     ]
    }
   ],
   "source": [
    "def records(**details):\n",
    "    for key,value in details.items():\n",
    "        print(key, '::', value)\n",
    "records(name = 'Ade',Age = 45,Gender = 'Male')"
   ]
  },
  {
   "cell_type": "code",
   "execution_count": 5,
   "id": "1d3acbd6",
   "metadata": {},
   "outputs": [
    {
     "name": "stdout",
     "output_type": "stream",
     "text": [
      "student :: ['Ade', 'Bisi', 'Hope']\n",
      "Score :: [78, 95, 87]\n"
     ]
    }
   ],
   "source": [
    "r = {'student':['Ade','Bisi','Hope'],\n",
    "    'Score':[78,95,87]}\n",
    "records(**r)"
   ]
  },
  {
   "cell_type": "markdown",
   "id": "1834591b",
   "metadata": {},
   "source": [
    "# LAMBDA, MAP AND FILTER"
   ]
  },
  {
   "cell_type": "code",
   "execution_count": 6,
   "id": "412d1fee",
   "metadata": {},
   "outputs": [
    {
     "data": {
      "text/plain": [
       "15"
      ]
     },
     "execution_count": 6,
     "metadata": {},
     "output_type": "execute_result"
    }
   ],
   "source": [
    "(lambda x, y: x + y)(7,8)"
   ]
  },
  {
   "cell_type": "code",
   "execution_count": 8,
   "id": "c6657273",
   "metadata": {},
   "outputs": [
    {
     "name": "stdout",
     "output_type": "stream",
     "text": [
      "Enter your Name:Boniface\n"
     ]
    },
    {
     "data": {
      "text/plain": [
       "'Boniface starts with uppercase letter'"
      ]
     },
     "execution_count": 8,
     "metadata": {},
     "output_type": "execute_result"
    }
   ],
   "source": [
    "(lambda name:f'{name} starts with uppercase letter' if name[0] == name[0].upper() else f'{name} does not starts with uppercase letter')(input('Enter your Name:'))"
   ]
  },
  {
   "cell_type": "code",
   "execution_count": 13,
   "id": "d74939ad",
   "metadata": {},
   "outputs": [
    {
     "data": {
      "text/plain": [
       "['BINGO', 'ASHLY', 'ROCKY', 'BATTY', 'BOBBY', 'GAFFY']"
      ]
     },
     "execution_count": 13,
     "metadata": {},
     "output_type": "execute_result"
    }
   ],
   "source": [
    "petname =['bingo','ashly','rocky','batty','bobby','gaffy']\n",
    "update = list(map(lambda x: x.upper(),petname))\n",
    "update"
   ]
  },
  {
   "cell_type": "code",
   "execution_count": 10,
   "id": "c0fa823a",
   "metadata": {},
   "outputs": [
    {
     "data": {
      "text/plain": [
       "['bingo', 'batty', 'bobby']"
      ]
     },
     "execution_count": 10,
     "metadata": {},
     "output_type": "execute_result"
    }
   ],
   "source": [
    "petname =['bingo','ashly','rocky','batty','bobby','gaffy']\n",
    "update = list(filter(lambda x: x.startswith('b'),petname))\n",
    "update"
   ]
  },
  {
   "cell_type": "code",
   "execution_count": 15,
   "id": "38968a42",
   "metadata": {},
   "outputs": [
    {
     "name": "stdout",
     "output_type": "stream",
     "text": [
      "[55, 47, 47, 45, 57, 55, 57, 47, 52, 52, 46, 48, 51, 50, 55, 48, 45, 58, 48, 50, 55, 51, 58, 45, 53, 59, 58, 50, 58, 56, 45, 56, 47, 52, 47, 59, 52, 49, 55, 54, 56, 48, 49, 54, 53, 55, 53, 55, 56, 50]\n"
     ]
    }
   ],
   "source": [
    "numbers  = []\n",
    "import random\n",
    "counter = 1\n",
    "while counter <= 50:\n",
    "    num = random.randint(45,60)\n",
    "    numbers.append(num)\n",
    "    counter +=1\n",
    "print(numbers)"
   ]
  },
  {
   "cell_type": "code",
   "execution_count": null,
   "id": "2120fe4e",
   "metadata": {},
   "outputs": [],
   "source": [
    "# EXERCISE\n",
    "# from the above numbers find the odd and even by filtering"
   ]
  }
 ],
 "metadata": {
  "kernelspec": {
   "display_name": "Python 3 (ipykernel)",
   "language": "python",
   "name": "python3"
  },
  "language_info": {
   "codemirror_mode": {
    "name": "ipython",
    "version": 3
   },
   "file_extension": ".py",
   "mimetype": "text/x-python",
   "name": "python",
   "nbconvert_exporter": "python",
   "pygments_lexer": "ipython3",
   "version": "3.9.12"
  }
 },
 "nbformat": 4,
 "nbformat_minor": 5
}
